{
 "cells": [
  {
   "cell_type": "code",
   "execution_count": null,
   "metadata": {},
   "outputs": [],
   "source": [
    "#using Pkg; Pkg.add(\"QuadGK\") \n",
    "using Plots\n",
    "using QuadGK\n",
    "using LinearAlgebra\n",
    "const Nmax=100\n"
   ]
  },
  {
   "cell_type": "code",
   "execution_count": null,
   "metadata": {},
   "outputs": [],
   "source": [
    "ψ1(x,n)=sqrt(2)*sin(n*pi*x)"
   ]
  },
  {
   "cell_type": "code",
   "execution_count": null,
   "metadata": {},
   "outputs": [],
   "source": [
    "x=0:0.01:1\n",
    "#labels=[i for i in 1:Nmax]\n",
    "#basis_func=[ψ1.(x,i) for i in 1:Nmax]\n",
    "#plot(x,basis_func, label=labels)\n"
   ]
  },
  {
   "cell_type": "code",
   "execution_count": null,
   "metadata": {},
   "outputs": [],
   "source": [
    "function V(V0, x, a, b)\n",
    "    @assert a>0 && b>0\n",
    "    @assert a<1 && b<1\n",
    "    @assert b>a\n",
    "    if x>a && x<b\n",
    "        return -V0-(x-a)/(b-a)*V0\n",
    "    else\n",
    "        return 0\n",
    "    end\n",
    "end"
   ]
  },
  {
   "cell_type": "code",
   "execution_count": null,
   "metadata": {},
   "outputs": [],
   "source": [
    "\n",
    "a=ones(Nmax)"
   ]
  },
  {
   "cell_type": "code",
   "execution_count": null,
   "metadata": {},
   "outputs": [],
   "source": []
  },
  {
   "cell_type": "code",
   "execution_count": null,
   "metadata": {},
   "outputs": [],
   "source": [
    "function Hamil(N,V0,a,b)\n",
    "    H=zeros(N,N)\n",
    "    for i in 1:N, j in i:N\n",
    "        f(x)=ψ1(x,i)*V(V0,x,a,b)*ψ1(x,j)\n",
    "        H[i,j]=quadgk(f,0,1)[1]\n",
    "    end\n",
    "    return Symmetric(H)\n",
    "end"
   ]
  },
  {
   "cell_type": "code",
   "execution_count": null,
   "metadata": {},
   "outputs": [],
   "source": [
    "H1=Hamil(Nmax,0.5,0.3,0.4)"
   ]
  },
  {
   "cell_type": "code",
   "execution_count": null,
   "metadata": {},
   "outputs": [],
   "source": [
    "E=eigvals(H1)"
   ]
  },
  {
   "cell_type": "code",
   "execution_count": null,
   "metadata": {},
   "outputs": [],
   "source": [
    "wfun=eigvecs(H1)"
   ]
  },
  {
   "cell_type": "code",
   "execution_count": null,
   "metadata": {},
   "outputs": [],
   "source": [
    "function groundstate(x,a)\n",
    "    Φ=zeros(length(x))\n",
    "    for i in 1:length(a)\n",
    "        Φ+=a[i]*ψ1.(x,i)\n",
    "    end\n",
    "    return Φ\n",
    "end\n",
    "        "
   ]
  },
  {
   "cell_type": "code",
   "execution_count": null,
   "metadata": {},
   "outputs": [],
   "source": [
    "Ψ=groundstate(x,wfun[:,1])\n",
    "normalize!(Ψ)\n",
    "norm(Ψ)"
   ]
  },
  {
   "cell_type": "code",
   "execution_count": null,
   "metadata": {},
   "outputs": [],
   "source": [
    "plot(x,Ψ.^2,label=\"|\\\\Psi|^2\")\n",
    "plot!(x,V.(0.5,x,0.3,0.4),label=\"V\")"
   ]
  },
  {
   "cell_type": "code",
   "execution_count": null,
   "metadata": {},
   "outputs": [],
   "source": []
  }
 ],
 "metadata": {
  "kernelspec": {
   "display_name": "Julia 1.0.0",
   "language": "julia",
   "name": "julia-1.0"
  },
  "language_info": {
   "file_extension": ".jl",
   "mimetype": "application/julia",
   "name": "julia",
   "version": "1.0.0"
  }
 },
 "nbformat": 4,
 "nbformat_minor": 2
}
