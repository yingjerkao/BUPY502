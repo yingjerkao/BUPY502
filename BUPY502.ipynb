{
 "cells": [
  {
   "cell_type": "raw",
   "metadata": {
    "slideshow": {
     "slide_type": ""
    }
   },
   "source": [
    "<style type=\"text/css\">\n",
    ".reveal {\n",
    "font-size: 120%;\n",
    "}</style>"
   ]
  },
  {
   "cell_type": "markdown",
   "metadata": {
    "slideshow": {
     "slide_type": "slide"
    }
   },
   "source": [
    "## Boston University, PY502  10/30/2018\n",
    "\n",
    "# &nbsp;\n",
    "\n",
    "# Introduction to the Julia Language\n",
    "\n",
    "  <img src=\"julia.png\" style=\"width: 200px;\"/>\n",
    "\n",
    "\n",
    "\n",
    "### Ying-Jer Kao\n",
    "#### Department of Physics, National Taiwan University\n",
    "#### yjkao@phys.ntu.edu.tw"
   ]
  },
  {
   "cell_type": "markdown",
   "metadata": {
    "slideshow": {
     "slide_type": "subslide"
    }
   },
   "source": [
    "## Julia \n",
    "#### A dynamic high-level language with the speed of a statically-compiled language"
   ]
  },
  {
   "cell_type": "markdown",
   "metadata": {
    "slideshow": {
     "slide_type": "subslide"
    }
   },
   "source": [
    "##  Julia is fast!\n",
    "\n",
    "Julia was designed from the beginning for high performance. Julia programs compile to efficient native code for multiple platforms via LLVM.\n"
   ]
  },
  {
   "cell_type": "markdown",
   "metadata": {
    "slideshow": {
     "slide_type": "subslide"
    }
   },
   "source": [
    "\n",
    "![benchmarks](https://julialang.org/images/benchmarks.svg)\n",
    "\n",
    "<!--- <img src=\"https://julialang.org/images/benchmarks.svg\" width=\"1200pt\"> --->"
   ]
  },
  {
   "cell_type": "markdown",
   "metadata": {
    "slideshow": {
     "slide_type": "subslide"
    }
   },
   "source": [
    "## Dynamic\n",
    "\n",
    "Julia is dynamically-typed, feels like a scripting language, and has good support for interactive use.\n"
   ]
  },
  {
   "cell_type": "markdown",
   "metadata": {
    "slideshow": {
     "slide_type": "subslide"
    }
   },
   "source": [
    "\n",
    "## Optionally Typed\n",
    "\n",
    "Julia has a rich language of descriptive datatypes, and type declarations can be used to clarify and solidify programs.\n"
   ]
  },
  {
   "cell_type": "markdown",
   "metadata": {
    "slideshow": {
     "slide_type": "subslide"
    }
   },
   "source": [
    "## General\n",
    "\n",
    "Julia uses multiple dispatch as a paradigm, making it easy to express many object-oriented and functional programming patterns. The standard library provides asynchronous I/O, process control, logging, profiling, a package manager, and more.\n"
   ]
  },
  {
   "cell_type": "markdown",
   "metadata": {
    "slideshow": {
     "slide_type": "subslide"
    }
   },
   "source": [
    "\n",
    "## Technical\n",
    "\n",
    "Julia excels at numerical computing. Its syntax is great for math, many numeric datatypes are supported, and parallelism is available out of the box. Julia's multiple dispatch is a natural fit for defining number and array-like datatypes.\n"
   ]
  },
  {
   "cell_type": "markdown",
   "metadata": {
    "slideshow": {
     "slide_type": "subslide"
    }
   },
   "source": [
    "\n",
    "## Composable\n",
    "\n",
    "Julia packages naturally work well together. Matrices of unit quantities, or data table columns of currencies and colors, just work — and with good performance.\n"
   ]
  },
  {
   "cell_type": "markdown",
   "metadata": {
    "slideshow": {
     "slide_type": "subslide"
    }
   },
   "source": [
    "## Key features\n",
    "   * Just-in-time compiled (using LLVM infrastructure)\n",
    "   * Dynamic type system\n",
    "   * Multiple dispatch:\n",
    "     * define function behavior across many combinations of argument types\n",
    "     * automatic generation of efficient, specialized code for different argument types\n",
    "   * Good support for computational science: numerics, statistics, multidimensional arrays, ...\n",
    "   * Homoiconic and powerful metaprogramming facilities"
   ]
  },
  {
   "cell_type": "markdown",
   "metadata": {
    "slideshow": {
     "slide_type": "slide"
    }
   },
   "source": [
    "## Code specialization"
   ]
  },
  {
   "cell_type": "code",
   "execution_count": 31,
   "metadata": {
    "slideshow": {
     "slide_type": "fragment"
    }
   },
   "outputs": [
    {
     "data": {
      "text/plain": [
       "myabs (generic function with 1 method)"
      ]
     },
     "execution_count": 31,
     "metadata": {},
     "output_type": "execute_result"
    }
   ],
   "source": [
    "function myabs(x)\n",
    "    if x < 0\n",
    "        return -x\n",
    "    end\n",
    "    return x\n",
    "end"
   ]
  },
  {
   "cell_type": "code",
   "execution_count": 32,
   "metadata": {
    "slideshow": {
     "slide_type": "-"
    }
   },
   "outputs": [
    {
     "name": "stdout",
     "output_type": "stream",
     "text": [
      "\n",
      "; Function myabs\n",
      "; Location: In[31]:2\n",
      "define i64 @julia_myabs_36724(i64) {\n",
      "top:\n",
      "; Function <; {\n",
      "; Location: int.jl:49\n",
      "  %1 = icmp sgt i64 %0, -1\n",
      ";}\n",
      "  br i1 %1, label %L5, label %L3\n",
      "\n",
      "L3:                                               ; preds = %top\n",
      "; Location: In[31]:3\n",
      "; Function -; {\n",
      "; Location: int.jl:51\n",
      "  %2 = sub i64 0, %0\n",
      ";}\n",
      "  ret i64 %2\n",
      "\n",
      "L5:                                               ; preds = %top\n",
      "; Location: In[31]:5\n",
      "  ret i64 %0\n",
      "}\n"
     ]
    }
   ],
   "source": [
    "@code_llvm myabs(3) # LLVM code for 64-bit integer"
   ]
  },
  {
   "cell_type": "markdown",
   "metadata": {
    "slideshow": {
     "slide_type": "subslide"
    }
   },
   "source": [
    "## Code specialization"
   ]
  },
  {
   "cell_type": "code",
   "execution_count": 33,
   "metadata": {
    "slideshow": {
     "slide_type": "fragment"
    }
   },
   "outputs": [
    {
     "name": "stdout",
     "output_type": "stream",
     "text": [
      "\n",
      "; Function myabs\n",
      "; Location: In[31]:2\n",
      "define i64 @julia_myabs_36725(i64) {\n",
      "top:\n",
      "; Location: In[31]:5\n",
      "  ret i64 %0\n",
      "}\n"
     ]
    }
   ],
   "source": [
    "code_llvm(myabs,Tuple{UInt64}) # LLVM code for 64-bit unsigned integer"
   ]
  },
  {
   "cell_type": "code",
   "execution_count": 34,
   "metadata": {
    "slideshow": {
     "slide_type": "fragment"
    }
   },
   "outputs": [
    {
     "name": "stdout",
     "output_type": "stream",
     "text": [
      "\n",
      "; Function myabs\n",
      "; Location: In[31]:2\n",
      "define double @julia_myabs_36726(double) {\n",
      "top:\n",
      "; Function <; {\n",
      "; Location: float.jl:497\n",
      "; Function <; {\n",
      "; Location: float.jl:452\n",
      "  %1 = fcmp uge double %0, 0.000000e+00\n",
      ";}}\n",
      "  br i1 %1, label %L11, label %L9\n",
      "\n",
      "L9:                                               ; preds = %top\n",
      "; Location: In[31]:3\n",
      "; Function -; {\n",
      "; Location: float.jl:387\n",
      "  %2 = fsub double -0.000000e+00, %0\n",
      ";}\n",
      "  ret double %2\n",
      "\n",
      "L11:                                              ; preds = %top\n",
      "; Location: In[31]:5\n",
      "  ret double %0\n",
      "}\n"
     ]
    }
   ],
   "source": [
    "code_llvm(myabs,Tuple{Float64}) # LLVM code for 64-bit floating point"
   ]
  },
  {
   "cell_type": "markdown",
   "metadata": {
    "slideshow": {
     "slide_type": "slide"
    }
   },
   "source": [
    "## Type inference & type stability"
   ]
  },
  {
   "cell_type": "code",
   "execution_count": 35,
   "metadata": {
    "slideshow": {
     "slide_type": "fragment"
    }
   },
   "outputs": [
    {
     "name": "stdout",
     "output_type": "stream",
     "text": [
      "Body\u001b[91m\u001b[1m::Union{Complex{Float64}, Float64}\u001b[22m\u001b[39m\n",
      "\u001b[90m\u001b[67G│╻    <\u001b[1G\u001b[39m\u001b[90m1 \u001b[39m1 ─ %1  = (Base.lt_float)(x, 0.0)\u001b[36m::Bool\u001b[39m\n",
      "\u001b[90m\u001b[67G│    \u001b[1G\u001b[39m\u001b[90m  \u001b[39m└──       goto #3 if not %1\n",
      "\u001b[90m\u001b[67G││╻╷╷  Type\u001b[1G\u001b[39m\u001b[90m  \u001b[39m2 ─ %3  = %new(Complex{Float64}, x, 0.0)\u001b[36m::Complex{Float64}\u001b[39m\n",
      "\u001b[90m\u001b[67G│    \u001b[1G\u001b[39m\u001b[90m  \u001b[39m│   %4  = invoke Main.sqrt(%3::Complex{Float64})\u001b[36m::Complex{Float64}\u001b[39m\n",
      "\u001b[90m\u001b[67G│    \u001b[1G\u001b[39m\u001b[90m  \u001b[39m└──       return %4\n",
      "\u001b[90m\u001b[67G││╻    <\u001b[1G\u001b[39m\u001b[90m  \u001b[39m3 ─ %6  = (Base.lt_float)(x, 0.0)\u001b[36m::Bool\u001b[39m\n",
      "\u001b[90m\u001b[67G││   \u001b[1G\u001b[39m\u001b[90m  \u001b[39m└──       goto #5 if not %6\n",
      "\u001b[90m\u001b[67G││   \u001b[1G\u001b[39m\u001b[90m  \u001b[39m4 ─       invoke Base.Math.throw_complex_domainerror(:sqrt::Symbol, _2::Float64)\n",
      "\u001b[90m\u001b[67G││   \u001b[1G\u001b[39m\u001b[90m  \u001b[39m└──       $(Expr(:unreachable))\n",
      "\u001b[90m\u001b[67G││   \u001b[1G\u001b[39m\u001b[90m  \u001b[39m5 ─ %10 = (Base.Math.sqrt_llvm)(x)\u001b[36m::Float64\u001b[39m\n",
      "\u001b[90m\u001b[67G││   \u001b[1G\u001b[39m\u001b[90m  \u001b[39m└──       goto #6\n",
      "\u001b[90m\u001b[67G│    \u001b[1G\u001b[39m\u001b[90m  \u001b[39m6 ─       return %10\n"
     ]
    }
   ],
   "source": [
    "mysqrt(x) = x < zero(x) ? sqrt(complex(x)) : sqrt(x)\n",
    "code_warntype(mysqrt,Tuple{Float64})"
   ]
  },
  {
   "cell_type": "markdown",
   "metadata": {
    "slideshow": {
     "slide_type": "subslide"
    }
   },
   "source": [
    "## Type inference & type stability"
   ]
  },
  {
   "cell_type": "code",
   "execution_count": 36,
   "metadata": {
    "slideshow": {
     "slide_type": "fragment"
    }
   },
   "outputs": [
    {
     "name": "stdout",
     "output_type": "stream",
     "text": [
      "Body\u001b[36m::Float64\u001b[39m\n",
      "\u001b[90m\u001b[55G│╻     getindex\u001b[1G\u001b[39m\u001b[90m2 \u001b[39m1 ── %1  = (Base.arrayref)(true, v, 1)\u001b[36m::Float64\u001b[39m\n",
      "\u001b[90m\u001b[55G││╻     <\u001b[1G\u001b[39m\u001b[90m  \u001b[39m│    %2  = π (0.0, \u001b[36mFloat64\u001b[39m)\n",
      "\u001b[90m\u001b[55G│││╻     <\u001b[1G\u001b[39m\u001b[90m  \u001b[39m│    %3  = (Base.lt_float)(%1, %2)\u001b[36m::Bool\u001b[39m\n",
      "\u001b[90m\u001b[55G│││   \u001b[1G\u001b[39m\u001b[90m  \u001b[39m│    %4  = π (0.0, \u001b[36mFloat64\u001b[39m)\n",
      "\u001b[90m\u001b[55G│││╻     ==\u001b[1G\u001b[39m\u001b[90m  \u001b[39m│    %5  = (Base.eq_float)(%1, %4)\u001b[36m::Bool\u001b[39m\n",
      "\u001b[90m\u001b[55G│││╻     &\u001b[1G\u001b[39m\u001b[90m  \u001b[39m│    %6  = (Base.and_int)(%5, true)\u001b[36m::Bool\u001b[39m\n",
      "\u001b[90m\u001b[55G││││  \u001b[1G\u001b[39m\u001b[90m  \u001b[39m│    %7  = (Base.and_int)(%6, false)\u001b[36m::Bool\u001b[39m\n",
      "\u001b[90m\u001b[55G│││╻     |\u001b[1G\u001b[39m\u001b[90m  \u001b[39m│    %8  = (Base.or_int)(%3, %7)\u001b[36m::Bool\u001b[39m\n",
      "\u001b[90m\u001b[55G││    \u001b[1G\u001b[39m\u001b[90m  \u001b[39m└───       goto #3 if not %8\n",
      "\u001b[90m\u001b[55G││╻     -\u001b[1G\u001b[39m\u001b[90m  \u001b[39m2 ── %10 = (Base.neg_float)(%1)\u001b[36m::Float64\u001b[39m\n",
      "\u001b[90m\u001b[55G││    \u001b[1G\u001b[39m\u001b[90m  \u001b[39m└───       goto #4\n",
      "\u001b[90m\u001b[55G││    \u001b[1G\u001b[39m\u001b[90m  \u001b[39m3 ──       goto #4\n",
      "\u001b[90m\u001b[55G│     \u001b[1G\u001b[39m\u001b[90m  \u001b[39m4 ┄─ %13 = φ (#2 => %10, #3 => %1)\u001b[36m::Float64\u001b[39m\n",
      "\u001b[90m\u001b[55G│╻     length\u001b[1G\u001b[39m\u001b[90m3 \u001b[39m│    %14 = (Base.arraylen)(v)\u001b[36m::Int64\u001b[39m\n",
      "\u001b[90m\u001b[55G││╻╷╷╷  Type\u001b[1G\u001b[39m\u001b[90m  \u001b[39m│    %15 = (Base.sle_int)(2, %14)\u001b[36m::Bool\u001b[39m\n",
      "\u001b[90m\u001b[55G│││╻     unitrange_last\u001b[1G\u001b[39m\u001b[90m  \u001b[39m│          (Base.sub_int)(%14, 2)\n",
      "\u001b[90m\u001b[55G││││  \u001b[1G\u001b[39m\u001b[90m  \u001b[39m│    %17 = (Base.ifelse)(%15, %14, 1)\u001b[36m::Int64\u001b[39m\n",
      "\u001b[90m\u001b[55G││╻╷╷   isempty\u001b[1G\u001b[39m\u001b[90m  \u001b[39m│    %18 = (Base.slt_int)(%17, 2)\u001b[36m::Bool\u001b[39m\n",
      "\u001b[90m\u001b[55G││    \u001b[1G\u001b[39m\u001b[90m  \u001b[39m└───       goto #6 if not %18\n",
      "\u001b[90m\u001b[55G││    \u001b[1G\u001b[39m\u001b[90m  \u001b[39m5 ──       goto #7\n",
      "\u001b[90m\u001b[55G││    \u001b[1G\u001b[39m\u001b[90m  \u001b[39m6 ──       goto #7\n",
      "\u001b[90m\u001b[55G│     \u001b[1G\u001b[39m\u001b[90m  \u001b[39m7 ┄─ %22 = φ (#5 => true, #6 => false)\u001b[36m::Bool\u001b[39m\n",
      "\u001b[90m\u001b[55G│     \u001b[1G\u001b[39m\u001b[90m  \u001b[39m│    %23 = φ (#6 => 2)\u001b[36m::Int64\u001b[39m\n",
      "\u001b[90m\u001b[55G│     \u001b[1G\u001b[39m\u001b[90m  \u001b[39m│    %24 = φ (#6 => 2)\u001b[36m::Int64\u001b[39m\n",
      "\u001b[90m\u001b[55G│     \u001b[1G\u001b[39m\u001b[90m  \u001b[39m│    %25 = (Base.not_int)(%22)\u001b[36m::Bool\u001b[39m\n",
      "\u001b[90m\u001b[55G│     \u001b[1G\u001b[39m\u001b[90m  \u001b[39m└───       goto #13 if not %25\n",
      "\u001b[90m\u001b[55G│     \u001b[1G\u001b[39m\u001b[90m  \u001b[39m8 ┄─ %27 = φ (#7 => %13, #12 => %32)\u001b[36m::Float64\u001b[39m\n",
      "\u001b[90m\u001b[55G│     \u001b[1G\u001b[39m\u001b[90m  \u001b[39m│    %28 = φ (#7 => %23, #12 => %38)\u001b[36m::Int64\u001b[39m\n",
      "\u001b[90m\u001b[55G│     \u001b[1G\u001b[39m\u001b[90m  \u001b[39m│    %29 = φ (#7 => %24, #12 => %39)\u001b[36m::Int64\u001b[39m\n",
      "\u001b[90m\u001b[55G│╻     getindex\u001b[1G\u001b[39m\u001b[90m4 \u001b[39m│    %30 = (Base.arrayref)(true, v, %28)\u001b[36m::Float64\u001b[39m\n",
      "\u001b[90m\u001b[55G│╻     abs\u001b[1G\u001b[39m\u001b[90m  \u001b[39m│    %31 = (Base.abs_float)(%30)\u001b[36m::Float64\u001b[39m\n",
      "\u001b[90m\u001b[55G│╻     +\u001b[1G\u001b[39m\u001b[90m  \u001b[39m│    %32 = (Base.add_float)(%27, %31)\u001b[36m::Float64\u001b[39m\n",
      "\u001b[90m\u001b[55G││╻     ==\u001b[1G\u001b[39m\u001b[90m  \u001b[39m│    %33 = (%29 === %17)\u001b[36m::Bool\u001b[39m\n",
      "\u001b[90m\u001b[55G││    \u001b[1G\u001b[39m\u001b[90m  \u001b[39m└───       goto #10 if not %33\n",
      "\u001b[90m\u001b[55G││    \u001b[1G\u001b[39m\u001b[90m  \u001b[39m9 ──       goto #11\n",
      "\u001b[90m\u001b[55G││╻     +\u001b[1G\u001b[39m\u001b[90m  \u001b[39m10 ─ %36 = (Base.add_int)(%29, 1)\u001b[36m::Int64\u001b[39m\n",
      "\u001b[90m\u001b[55G│╻     iterate\u001b[1G\u001b[39m\u001b[90m  \u001b[39m└───       goto #11\n",
      "\u001b[90m\u001b[55G│     \u001b[1G\u001b[39m\u001b[90m  \u001b[39m11 ┄ %38 = φ (#10 => %36)\u001b[36m::Int64\u001b[39m\n",
      "\u001b[90m\u001b[55G│     \u001b[1G\u001b[39m\u001b[90m  \u001b[39m│    %39 = φ (#10 => %36)\u001b[36m::Int64\u001b[39m\n",
      "\u001b[90m\u001b[55G│     \u001b[1G\u001b[39m\u001b[90m  \u001b[39m│    %40 = φ (#9 => true, #10 => false)\u001b[36m::Bool\u001b[39m\n",
      "\u001b[90m\u001b[55G│     \u001b[1G\u001b[39m\u001b[90m  \u001b[39m│    %41 = (Base.not_int)(%40)\u001b[36m::Bool\u001b[39m\n",
      "\u001b[90m\u001b[55G│     \u001b[1G\u001b[39m\u001b[90m  \u001b[39m└───       goto #13 if not %41\n",
      "\u001b[90m\u001b[55G│     \u001b[1G\u001b[39m\u001b[90m  \u001b[39m12 ─       goto #8\n",
      "\u001b[90m\u001b[55G│     \u001b[1G\u001b[39m\u001b[90m6 \u001b[39m13 ─ %44 = φ (#11 => %32, #7 => %13)\u001b[36m::Float64\u001b[39m\n",
      "\u001b[90m\u001b[55G│     \u001b[1G\u001b[39m\u001b[90m  \u001b[39m└───       return %44\n"
     ]
    }
   ],
   "source": [
    "function summyabs(v::Vector)\n",
    "    s = myabs(v[1])\n",
    "    for i = 2:length(v)\n",
    "        s += abs(v[i])\n",
    "    end\n",
    "    return s\n",
    "end\n",
    "code_warntype(summyabs, Tuple{Vector{Float64}})"
   ]
  },
  {
   "cell_type": "code",
   "execution_count": 37,
   "metadata": {
    "slideshow": {
     "slide_type": "subslide"
    }
   },
   "outputs": [
    {
     "name": "stdout",
     "output_type": "stream",
     "text": [
      "  0.008435 seconds (14.82 k allocations: 770.828 KiB)\n",
      "  0.000002 seconds (5 allocations: 176 bytes)\n",
      "  0.000014 seconds (5 allocations: 176 bytes)\n"
     ]
    },
    {
     "data": {
      "text/plain": [
       "8082.787690217848"
      ]
     },
     "execution_count": 37,
     "metadata": {},
     "output_type": "execute_result"
    }
   ],
   "source": [
    "x=randn(100)\n",
    "@time summyabs(x)\n",
    "x=randn(1000)\n",
    "@time summyabs(x)\n",
    "x=randn(10000)\n",
    "@time summyabs(x)"
   ]
  },
  {
   "cell_type": "markdown",
   "metadata": {
    "slideshow": {
     "slide_type": "subslide"
    }
   },
   "source": [
    "## Type inference & type stability"
   ]
  },
  {
   "cell_type": "code",
   "execution_count": 38,
   "metadata": {
    "scrolled": true,
    "slideshow": {
     "slide_type": "fragment"
    }
   },
   "outputs": [
    {
     "name": "stdout",
     "output_type": "stream",
     "text": [
      "Body\u001b[91m\u001b[1m::Union{Complex{Float64}, Float64}\u001b[22m\u001b[39m\n",
      "\u001b[90m\u001b[54G│╻      getindex\u001b[1G\u001b[39m\u001b[90m2 \u001b[39m1 ── %1  = (Base.arrayref)(true, v, 1)\u001b[36m::Int64\u001b[39m\n",
      "\u001b[90m\u001b[54G││╻      <\u001b[1G\u001b[39m\u001b[90m  \u001b[39m│    %2  = (Base.slt_int)(%1, 0)\u001b[36m::Bool\u001b[39m\n",
      "\u001b[90m\u001b[54G││     \u001b[1G\u001b[39m\u001b[90m  \u001b[39m└───       goto #3 if not %2\n",
      "\u001b[90m\u001b[54G│││╻╷╷╷   float\u001b[1G\u001b[39m\u001b[90m  \u001b[39m2 ── %4  = (Base.sitofp)(Float64, %1)\u001b[36m::Float64\u001b[39m\n",
      "\u001b[90m\u001b[54G││││╻╷     float\u001b[1G\u001b[39m\u001b[90m  \u001b[39m│    %5  = (Base.sitofp)(Float64, 0)\u001b[36m::Float64\u001b[39m\n",
      "\u001b[90m\u001b[54G│││││╻      Type\u001b[1G\u001b[39m\u001b[90m  \u001b[39m│    %6  = %new(Complex{Float64}, %4, %5)\u001b[36m::Complex{Float64}\u001b[39m\n",
      "\u001b[90m\u001b[54G│││    \u001b[1G\u001b[39m\u001b[90m  \u001b[39m│    %7  = invoke Base.sqrt(%6::Complex{Float64})\u001b[36m::Complex{Float64}\u001b[39m\n",
      "\u001b[90m\u001b[54G││     \u001b[1G\u001b[39m\u001b[90m  \u001b[39m└───       goto #8\n",
      "\u001b[90m\u001b[54G│││╻╷╷    float\u001b[1G\u001b[39m\u001b[90m  \u001b[39m3 ── %9  = (Base.sitofp)(Float64, %1)\u001b[36m::Float64\u001b[39m\n",
      "\u001b[90m\u001b[54G││││╻      <\u001b[1G\u001b[39m\u001b[90m  \u001b[39m│    %10 = (Base.lt_float)(%9, 0.0)\u001b[36m::Bool\u001b[39m\n",
      "\u001b[90m\u001b[54G││││   \u001b[1G\u001b[39m\u001b[90m  \u001b[39m└───       goto #5 if not %10\n",
      "\u001b[90m\u001b[54G││││   \u001b[1G\u001b[39m\u001b[90m  \u001b[39m4 ──       invoke Base.Math.throw_complex_domainerror(:sqrt::Symbol, %9::Float64)\n",
      "\u001b[90m\u001b[54G││││   \u001b[1G\u001b[39m\u001b[90m  \u001b[39m└───       $(Expr(:unreachable))\n",
      "\u001b[90m\u001b[54G││││   \u001b[1G\u001b[39m\u001b[90m  \u001b[39m5 ── %14 = (Base.Math.sqrt_llvm)(%9)\u001b[36m::Float64\u001b[39m\n",
      "\u001b[90m\u001b[54G││││   \u001b[1G\u001b[39m\u001b[90m  \u001b[39m└───       goto #6\n",
      "\u001b[90m\u001b[54G│││    \u001b[1G\u001b[39m\u001b[90m  \u001b[39m6 ──       goto #7\n",
      "\u001b[90m\u001b[54G││     \u001b[1G\u001b[39m\u001b[90m  \u001b[39m7 ──       goto #8\n",
      "\u001b[90m\u001b[54G│      \u001b[1G\u001b[39m\u001b[90m  \u001b[39m8 ┄─ %18 = φ (#2 => %7, #7 => %14)\u001b[91m\u001b[1m::Union{Complex{Float64}, Float64}\u001b[22m\u001b[39m\n",
      "\u001b[90m\u001b[54G│╻      length\u001b[1G\u001b[39m\u001b[90m3 \u001b[39m│    %19 = (Base.arraylen)(v)\u001b[36m::Int64\u001b[39m\n",
      "\u001b[90m\u001b[54G││╻╷╷╷   Type\u001b[1G\u001b[39m\u001b[90m  \u001b[39m│    %20 = (Base.sle_int)(2, %19)\u001b[36m::Bool\u001b[39m\n",
      "\u001b[90m\u001b[54G│││╻      unitrange_last\u001b[1G\u001b[39m\u001b[90m  \u001b[39m│          (Base.sub_int)(%19, 2)\n",
      "\u001b[90m\u001b[54G││││   \u001b[1G\u001b[39m\u001b[90m  \u001b[39m│    %22 = (Base.ifelse)(%20, %19, 1)\u001b[36m::Int64\u001b[39m\n",
      "\u001b[90m\u001b[54G││╻╷╷    isempty\u001b[1G\u001b[39m\u001b[90m  \u001b[39m│    %23 = (Base.slt_int)(%22, 2)\u001b[36m::Bool\u001b[39m\n",
      "\u001b[90m\u001b[54G││     \u001b[1G\u001b[39m\u001b[90m  \u001b[39m└───       goto #10 if not %23\n",
      "\u001b[90m\u001b[54G││     \u001b[1G\u001b[39m\u001b[90m  \u001b[39m9 ──       goto #11\n",
      "\u001b[90m\u001b[54G││     \u001b[1G\u001b[39m\u001b[90m  \u001b[39m10 ─       goto #11\n",
      "\u001b[90m\u001b[54G│      \u001b[1G\u001b[39m\u001b[90m  \u001b[39m11 ┄ %27 = φ (#9 => true, #10 => false)\u001b[36m::Bool\u001b[39m\n",
      "\u001b[90m\u001b[54G│      \u001b[1G\u001b[39m\u001b[90m  \u001b[39m│    %28 = φ (#10 => 2)\u001b[36m::Int64\u001b[39m\n",
      "\u001b[90m\u001b[54G│      \u001b[1G\u001b[39m\u001b[90m  \u001b[39m│    %29 = φ (#10 => 2)\u001b[36m::Int64\u001b[39m\n",
      "\u001b[90m\u001b[54G│      \u001b[1G\u001b[39m\u001b[90m  \u001b[39m│    %30 = (Base.not_int)(%27)\u001b[36m::Bool\u001b[39m\n",
      "\u001b[90m\u001b[54G│      \u001b[1G\u001b[39m\u001b[90m  \u001b[39m└───       goto #24 if not %30\n",
      "\u001b[90m\u001b[54G│      \u001b[1G\u001b[39m\u001b[90m  \u001b[39m12 ┄ %32 = φ (#11 => %18, #23 => %53)\u001b[91m\u001b[1m::Union{Complex{Float64}, Float64}\u001b[22m\u001b[39m\n",
      "\u001b[90m\u001b[54G│      \u001b[1G\u001b[39m\u001b[90m  \u001b[39m│    %33 = φ (#11 => %28, #23 => %59)\u001b[36m::Int64\u001b[39m\n",
      "\u001b[90m\u001b[54G│      \u001b[1G\u001b[39m\u001b[90m  \u001b[39m│    %34 = φ (#11 => %29, #23 => %60)\u001b[36m::Int64\u001b[39m\n",
      "\u001b[90m\u001b[54G│╻      getindex\u001b[1G\u001b[39m\u001b[90m4 \u001b[39m│    %35 = (Base.arrayref)(true, v, %33)\u001b[36m::Int64\u001b[39m\n",
      "\u001b[90m\u001b[54G││╻      <\u001b[1G\u001b[39m\u001b[90m  \u001b[39m│    %36 = (Base.slt_int)(%35, 0)\u001b[36m::Bool\u001b[39m\n",
      "\u001b[90m\u001b[54G││     \u001b[1G\u001b[39m\u001b[90m  \u001b[39m└───       goto #14 if not %36\n",
      "\u001b[90m\u001b[54G│││╻╷╷╷   float\u001b[1G\u001b[39m\u001b[90m  \u001b[39m13 ─ %38 = (Base.sitofp)(Float64, %35)\u001b[36m::Float64\u001b[39m\n",
      "\u001b[90m\u001b[54G││││╻╷     float\u001b[1G\u001b[39m\u001b[90m  \u001b[39m│    %39 = (Base.sitofp)(Float64, 0)\u001b[36m::Float64\u001b[39m\n",
      "\u001b[90m\u001b[54G│││││╻      Type\u001b[1G\u001b[39m\u001b[90m  \u001b[39m│    %40 = %new(Complex{Float64}, %38, %39)\u001b[36m::Complex{Float64}\u001b[39m\n",
      "\u001b[90m\u001b[54G│││    \u001b[1G\u001b[39m\u001b[90m  \u001b[39m│    %41 = invoke Base.sqrt(%40::Complex{Float64})\u001b[36m::Complex{Float64}\u001b[39m\n",
      "\u001b[90m\u001b[54G││     \u001b[1G\u001b[39m\u001b[90m  \u001b[39m└───       goto #19\n",
      "\u001b[90m\u001b[54G│││╻╷╷    float\u001b[1G\u001b[39m\u001b[90m  \u001b[39m14 ─ %43 = (Base.sitofp)(Float64, %35)\u001b[36m::Float64\u001b[39m\n",
      "\u001b[90m\u001b[54G││││╻      <\u001b[1G\u001b[39m\u001b[90m  \u001b[39m│    %44 = (Base.lt_float)(%43, 0.0)\u001b[36m::Bool\u001b[39m\n",
      "\u001b[90m\u001b[54G││││   \u001b[1G\u001b[39m\u001b[90m  \u001b[39m└───       goto #16 if not %44\n",
      "\u001b[90m\u001b[54G││││   \u001b[1G\u001b[39m\u001b[90m  \u001b[39m15 ─       invoke Base.Math.throw_complex_domainerror(:sqrt::Symbol, %43::Float64)\n",
      "\u001b[90m\u001b[54G││││   \u001b[1G\u001b[39m\u001b[90m  \u001b[39m└───       $(Expr(:unreachable))\n",
      "\u001b[90m\u001b[54G││││   \u001b[1G\u001b[39m\u001b[90m  \u001b[39m16 ─ %48 = (Base.Math.sqrt_llvm)(%43)\u001b[36m::Float64\u001b[39m\n",
      "\u001b[90m\u001b[54G││││   \u001b[1G\u001b[39m\u001b[90m  \u001b[39m└───       goto #17\n",
      "\u001b[90m\u001b[54G│││    \u001b[1G\u001b[39m\u001b[90m  \u001b[39m17 ─       goto #18\n",
      "\u001b[90m\u001b[54G││     \u001b[1G\u001b[39m\u001b[90m  \u001b[39m18 ─       goto #19\n",
      "\u001b[90m\u001b[54G│      \u001b[1G\u001b[39m\u001b[90m  \u001b[39m19 ┄ %52 = φ (#13 => %41, #18 => %48)\u001b[91m\u001b[1m::Union{Complex{Float64}, Float64}\u001b[22m\u001b[39m\n",
      "\u001b[90m\u001b[54G│      \u001b[1G\u001b[39m\u001b[90m  \u001b[39m│    %53 = (%32 + %52)\u001b[91m\u001b[1m::Union{Complex{Float64}, Float64}\u001b[22m\u001b[39m\n",
      "\u001b[90m\u001b[54G││╻      ==\u001b[1G\u001b[39m\u001b[90m  \u001b[39m│    %54 = (%34 === %22)\u001b[36m::Bool\u001b[39m\n",
      "\u001b[90m\u001b[54G││     \u001b[1G\u001b[39m\u001b[90m  \u001b[39m└───       goto #21 if not %54\n",
      "\u001b[90m\u001b[54G││     \u001b[1G\u001b[39m\u001b[90m  \u001b[39m20 ─       goto #22\n",
      "\u001b[90m\u001b[54G││╻      +\u001b[1G\u001b[39m\u001b[90m  \u001b[39m21 ─ %57 = (Base.add_int)(%34, 1)\u001b[36m::Int64\u001b[39m\n",
      "\u001b[90m\u001b[54G│╻      iterate\u001b[1G\u001b[39m\u001b[90m  \u001b[39m└───       goto #22\n",
      "\u001b[90m\u001b[54G│      \u001b[1G\u001b[39m\u001b[90m  \u001b[39m22 ┄ %59 = φ (#21 => %57)\u001b[36m::Int64\u001b[39m\n",
      "\u001b[90m\u001b[54G│      \u001b[1G\u001b[39m\u001b[90m  \u001b[39m│    %60 = φ (#21 => %57)\u001b[36m::Int64\u001b[39m\n",
      "\u001b[90m\u001b[54G│      \u001b[1G\u001b[39m\u001b[90m  \u001b[39m│    %61 = φ (#20 => true, #21 => false)\u001b[36m::Bool\u001b[39m\n",
      "\u001b[90m\u001b[54G│      \u001b[1G\u001b[39m\u001b[90m  \u001b[39m│    %62 = (Base.not_int)(%61)\u001b[36m::Bool\u001b[39m\n",
      "\u001b[90m\u001b[54G│      \u001b[1G\u001b[39m\u001b[90m  \u001b[39m└───       goto #24 if not %62\n",
      "\u001b[90m\u001b[54G│      \u001b[1G\u001b[39m\u001b[90m  \u001b[39m23 ─       goto #12\n",
      "\u001b[90m\u001b[54G│      \u001b[1G\u001b[39m\u001b[90m6 \u001b[39m24 ─ %65 = φ (#22 => %53, #11 => %18)\u001b[91m\u001b[1m::Union{Complex{Float64}, Float64}\u001b[22m\u001b[39m\n",
      "\u001b[90m\u001b[54G│      \u001b[1G\u001b[39m\u001b[90m  \u001b[39m└───       return %65\n"
     ]
    }
   ],
   "source": [
    "function summysqrt(v::Vector)\n",
    "    s = mysqrt(v[1])\n",
    "    for i = 2:length(v)\n",
    "        s += mysqrt(v[i])\n",
    "    end\n",
    "    return s\n",
    "end\n",
    "code_warntype(summysqrt,Tuple{Vector{Int64}})"
   ]
  },
  {
   "cell_type": "code",
   "execution_count": 39,
   "metadata": {
    "slideshow": {
     "slide_type": "subslide"
    }
   },
   "outputs": [
    {
     "name": "stdout",
     "output_type": "stream",
     "text": [
      "  0.061757 seconds (21.67 k allocations: 1.099 MiB)\n",
      "  0.000045 seconds (2.00 k allocations: 54.859 KiB)\n",
      "  0.000426 seconds (20.00 k allocations: 546.063 KiB)\n"
     ]
    },
    {
     "data": {
      "text/plain": [
       "4158.404155194087 + 4026.7948290669874im"
      ]
     },
     "execution_count": 39,
     "metadata": {},
     "output_type": "execute_result"
    }
   ],
   "source": [
    "x=randn(100)\n",
    "@time summysqrt(x)\n",
    "x=randn(1000)\n",
    "@time summysqrt(x)\n",
    "x=randn(10000)\n",
    "@time summysqrt(x)"
   ]
  },
  {
   "cell_type": "code",
   "execution_count": 43,
   "metadata": {},
   "outputs": [
    {
     "ename": "ErrorException",
     "evalue": "function rand does not accept keyword arguments",
     "output_type": "error",
     "traceback": [
      "function rand does not accept keyword arguments",
      "",
      "Stacktrace:",
      " [1] kwfunc(::Any) at ./boot.jl:321",
      " [2] top-level scope at In[43]:1"
     ]
    }
   ],
   "source": []
  },
  {
   "cell_type": "markdown",
   "metadata": {
    "slideshow": {
     "slide_type": "slide"
    }
   },
   "source": [
    "## Homoiconicity (Code as data)"
   ]
  },
  {
   "cell_type": "code",
   "execution_count": 44,
   "metadata": {
    "slideshow": {
     "slide_type": "fragment"
    }
   },
   "outputs": [
    {
     "data": {
      "text/plain": [
       "quote\n",
       "    #= In[44]:2 =#\n",
       "    function summysqrt(v::Vector)\n",
       "        #= In[44]:3 =#\n",
       "        s = mysqrt(v[1])\n",
       "        #= In[44]:4 =#\n",
       "        for i = 2:length(v)\n",
       "            #= In[44]:5 =#\n",
       "            s += mysqrt(v[i])\n",
       "        end\n",
       "        #= In[44]:7 =#\n",
       "        return x\n",
       "    end\n",
       "end"
      ]
     },
     "execution_count": 44,
     "metadata": {},
     "output_type": "execute_result"
    }
   ],
   "source": [
    "ex=quote\n",
    "    function summysqrt(v::Vector)\n",
    "        s = mysqrt(v[1])\n",
    "        for i = 2:length(v)\n",
    "            s += mysqrt(v[i])\n",
    "        end\n",
    "        return x\n",
    "        end\n",
    "end"
   ]
  },
  {
   "cell_type": "code",
   "execution_count": 45,
   "metadata": {
    "slideshow": {
     "slide_type": "-"
    }
   },
   "outputs": [
    {
     "data": {
      "text/plain": [
       "Expr"
      ]
     },
     "execution_count": 45,
     "metadata": {},
     "output_type": "execute_result"
    }
   ],
   "source": [
    "typeof(ex)"
   ]
  },
  {
   "cell_type": "markdown",
   "metadata": {
    "slideshow": {
     "slide_type": "subslide"
    }
   },
   "source": [
    "## Homoiconicity "
   ]
  },
  {
   "cell_type": "code",
   "execution_count": 46,
   "metadata": {
    "slideshow": {
     "slide_type": "fragment"
    }
   },
   "outputs": [
    {
     "name": "stdout",
     "output_type": "stream",
     "text": [
      "(:block,\n",
      "  :(#= In[44]:2 =#),\n",
      "  (:function, (:call, :summysqrt, (:(::), :v, :Vector)), (:block,\n",
      "      :(#= In[44]:3 =#),\n",
      "      (:(=), :s, (:call, :mysqrt, (:ref, :v, 1))),\n",
      "      :(#= In[44]:4 =#),\n",
      "      (:for, (:(=), :i, (:call, :(:), 2, (:call, :length, :v))), (:block,\n",
      "          :(#= In[44]:5 =#),\n",
      "          (:+=, :s, (:call, :mysqrt, (:ref, :v, :i)))\n",
      "        )),\n",
      "      :(#= In[44]:7 =#),\n",
      "      (:return, :x)\n",
      "    ))\n",
      ")"
     ]
    }
   ],
   "source": [
    "Meta.show_sexpr(ex)"
   ]
  },
  {
   "cell_type": "markdown",
   "metadata": {
    "slideshow": {
     "slide_type": "slide"
    }
   },
   "source": [
    "## Metaprogramming"
   ]
  },
  {
   "cell_type": "code",
   "execution_count": 47,
   "metadata": {
    "slideshow": {
     "slide_type": "fragment"
    }
   },
   "outputs": [
    {
     "data": {
      "text/plain": [
       "@twice (macro with 1 method)"
      ]
     },
     "execution_count": 47,
     "metadata": {},
     "output_type": "execute_result"
    }
   ],
   "source": [
    "macro twice(ex)\n",
    "    Expr(:block, esc(ex), esc(ex))\n",
    "end"
   ]
  },
  {
   "cell_type": "code",
   "execution_count": 48,
   "metadata": {
    "slideshow": {
     "slide_type": "fragment"
    }
   },
   "outputs": [
    {
     "data": {
      "text/plain": [
       "5"
      ]
     },
     "execution_count": 48,
     "metadata": {},
     "output_type": "execute_result"
    }
   ],
   "source": [
    "x=3;\n",
    "@twice x+=1\n",
    "x"
   ]
  },
  {
   "cell_type": "code",
   "execution_count": 49,
   "metadata": {
    "slideshow": {
     "slide_type": "fragment"
    }
   },
   "outputs": [
    {
     "data": {
      "text/plain": [
       "quote\n",
       "    x += 1\n",
       "    x += 1\n",
       "end"
      ]
     },
     "execution_count": 49,
     "metadata": {},
     "output_type": "execute_result"
    }
   ],
   "source": [
    "macroexpand(Main, :(@twice x+=1))"
   ]
  },
  {
   "cell_type": "code",
   "execution_count": null,
   "metadata": {},
   "outputs": [],
   "source": []
  }
 ],
 "metadata": {
  "anaconda-cloud": {},
  "celltoolbar": "Slideshow",
  "kernelspec": {
   "display_name": "Julia 1.0.0",
   "language": "julia",
   "name": "julia-1.0"
  },
  "language_info": {
   "file_extension": ".jl",
   "mimetype": "application/julia",
   "name": "julia",
   "version": "1.0.0"
  }
 },
 "nbformat": 4,
 "nbformat_minor": 2
}
